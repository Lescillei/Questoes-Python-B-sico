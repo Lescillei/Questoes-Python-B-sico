{
  "nbformat": 4,
  "nbformat_minor": 0,
  "metadata": {
    "colab": {
      "provenance": [],
      "authorship_tag": "ABX9TyMJYH+71zrmpZ9YXDXqlAwX",
      "include_colab_link": true
    },
    "kernelspec": {
      "name": "python3",
      "display_name": "Python 3"
    },
    "language_info": {
      "name": "python"
    }
  },
  "cells": [
    {
      "cell_type": "markdown",
      "metadata": {
        "id": "view-in-github",
        "colab_type": "text"
      },
      "source": [
        "<a href=\"https://colab.research.google.com/github/Lescillei/Questoes-Python-Basico/blob/main/QUEST%C3%95ES.ipynb\" target=\"_parent\"><img src=\"https://colab.research.google.com/assets/colab-badge.svg\" alt=\"Open In Colab\"/></a>"
      ]
    },
    {
      "cell_type": "markdown",
      "source": [
        "1 - Escreva um programa que exiba todos os números entre 5 e 100 que são divisíveis por 7, mas não são\n",
        "múltiplos de 5."
      ],
      "metadata": {
        "id": "xCf48jbBGMMv"
      }
    },
    {
      "cell_type": "code",
      "execution_count": null,
      "metadata": {
        "colab": {
          "base_uri": "https://localhost:8080/"
        },
        "id": "J3HpKW8QGFRp",
        "outputId": "49596ee5-78fe-47b8-e30a-5c39a74f1913"
      },
      "outputs": [
        {
          "output_type": "stream",
          "name": "stdout",
          "text": [
            "7\n",
            "14\n",
            "21\n",
            "28\n",
            "42\n",
            "49\n",
            "56\n",
            "63\n",
            "77\n",
            "84\n",
            "91\n",
            "98\n"
          ]
        }
      ],
      "source": [
        "minimo = 5\n",
        "maximo = 100\n",
        "lista = list(range(minimo,maximo + 1))\n",
        "for numero in lista:\n",
        "  if numero % 7 == 0 and numero % 5 != 0:\n",
        "   print(numero)"
      ]
    },
    {
      "cell_type": "markdown",
      "source": [
        "2 - Faça um algoritmo que utilize o loop for para percorrer a lista e somar todos os valores presentes na\n",
        "lista"
      ],
      "metadata": {
        "id": "RARsCe7mHeYk"
      }
    },
    {
      "cell_type": "code",
      "source": [
        "lista = [10,20,30,40,50]\n",
        "soma = 0\n",
        "for num in lista:\n",
        "  soma += num\n",
        "  print(soma)\n",
        "print(f\"A soma é {soma}\")"
      ],
      "metadata": {
        "colab": {
          "base_uri": "https://localhost:8080/"
        },
        "id": "ch0wjKIsHfSK",
        "outputId": "b0e193a3-d859-4bbf-e76a-5430eb45db9e"
      },
      "execution_count": null,
      "outputs": [
        {
          "output_type": "stream",
          "name": "stdout",
          "text": [
            "10\n",
            "30\n",
            "60\n",
            "100\n",
            "150\n",
            "A soma é 150\n"
          ]
        }
      ]
    },
    {
      "cell_type": "markdown",
      "source": [
        "3 - Dada a lista lista_de_nomes=[\"Pedro\", \"Luiza\", \"Eduardo\", \"Milena\", \"Janaina\", \"Fábio\", \"Abgail\"] e\n",
        "usando a estrutura de “loop”, crie e execute um programa em python que imprima a seguinte saída:"
      ],
      "metadata": {
        "id": "7diEsbf9IJMy"
      }
    },
    {
      "cell_type": "code",
      "source": [
        "lista_de_nomes = [\"Pedro\", \"Luiza\", \"Eduardo\", \"Milena\", \"Janaina\", \"Fábio\", \"Abgail\"]\n",
        "for nome in lista_de_nomes:\n",
        "  print(f'Boa noite, {nome}!')"
      ],
      "metadata": {
        "colab": {
          "base_uri": "https://localhost:8080/"
        },
        "id": "MQTBHFAYIKP8",
        "outputId": "27594054-c3ef-4700-a22b-393843e809ce"
      },
      "execution_count": null,
      "outputs": [
        {
          "output_type": "stream",
          "name": "stdout",
          "text": [
            "Boa noite, Pedro!\n",
            "Boa noite, Luiza!\n",
            "Boa noite, Eduardo!\n",
            "Boa noite, Milena!\n",
            "Boa noite, Janaina!\n",
            "Boa noite, Fábio!\n",
            "Boa noite, Abgail!\n"
          ]
        }
      ]
    },
    {
      "cell_type": "markdown",
      "source": [
        "4 - Usando as estruturas de “loop” e condicional, crie e execute um programa que imprima os números\n",
        "divisíveis por 7 e por 5 entre 1 e 200."
      ],
      "metadata": {
        "id": "yOoOpvxTIh5a"
      }
    },
    {
      "cell_type": "code",
      "source": [
        "for number in range(1,201):\n",
        "  if number % 7 == 0 and number % 5 == 0:\n",
        "    print(number)"
      ],
      "metadata": {
        "colab": {
          "base_uri": "https://localhost:8080/"
        },
        "id": "4dVqksdZIlDa",
        "outputId": "7cd787ba-76f8-42be-af9a-52ab571a55de"
      },
      "execution_count": null,
      "outputs": [
        {
          "output_type": "stream",
          "name": "stdout",
          "text": [
            "35\n",
            "70\n",
            "105\n",
            "140\n",
            "175\n"
          ]
        }
      ]
    },
    {
      "cell_type": "markdown",
      "source": [
        "5 - Usando a estrutura de `while`, crie e execute um programa em que imprima como resultado valores de\n",
        "um contador, em incrementos (passo) de 3, no intervalo entre 0 e 15."
      ],
      "metadata": {
        "id": "YGTWEZyVN5Sp"
      }
    },
    {
      "cell_type": "code",
      "source": [
        "numero = 0\n",
        "while numero < 15:\n",
        "  numero = numero + 3\n",
        "  print(numero)"
      ],
      "metadata": {
        "id": "VDsX3bB2N8RJ",
        "colab": {
          "base_uri": "https://localhost:8080/"
        },
        "outputId": "6e4355a2-b1f9-4fe3-d84b-205caf23a5bc"
      },
      "execution_count": null,
      "outputs": [
        {
          "output_type": "stream",
          "name": "stdout",
          "text": [
            "3\n",
            "6\n",
            "9\n",
            "12\n",
            "15\n"
          ]
        }
      ]
    },
    {
      "cell_type": "markdown",
      "source": [
        "6 - Faça um programa que peça três notas, faça a média e, caso a média seja menor que 0 ou maior que 10,\n",
        "mostre uma mensagem informando valor inválido e continue pedindo as 3 notas e calculando a média até\n",
        "que o usuário informe valores que resultem uma média válida."
      ],
      "metadata": {
        "id": "fs4SmX6uOkWw"
      }
    },
    {
      "cell_type": "code",
      "source": [
        "nota_1 = float(input(\"DIGITE NOTA 1 \"))\n",
        "nota_2 = float(input(\"DIGITE NOTA 2 \"))\n",
        "nota_3 = float(input(\"DIGITE NOTA 3 \"))\n",
        "media = (nota_1 + nota_2 + nota_3) / 3\n",
        "while media < 0 or media > 10:\n",
        "  print(\"VALOR INVÁLIDO\")\n",
        "  nota_1 = float(input(\"DIGITE NOTA 1 \"))\n",
        "  nota_2 = float(input(\"DIGITE NOTA 2 \"))\n",
        "  nota_3 = float(input(\"DIGITE NOTA 3 \"))\n",
        "  media = (nota_1 + nota_2 + nota_3) / 3\n",
        "print(f\"Sua média foi {media}\")"
      ],
      "metadata": {
        "colab": {
          "base_uri": "https://localhost:8080/"
        },
        "id": "pcBJghWpOlHf",
        "outputId": "9a818a58-88ed-413d-cc46-b7471e1e084d"
      },
      "execution_count": null,
      "outputs": [
        {
          "output_type": "stream",
          "name": "stdout",
          "text": [
            "DIGITE NOTA 1 11\n",
            "DIGITE NOTA 2 11\n",
            "DIGITE NOTA 3 11\n",
            "VALOR INVÁLIDO\n",
            "DIGITE NOTA 1 0\n",
            "DIGITE NOTA 2 0\n",
            "DIGITE NOTA 3 0\n",
            "Sua média foi 0.0\n"
          ]
        }
      ]
    },
    {
      "cell_type": "markdown",
      "source": [
        "7 - Uma loja onde todos os produtos são R$1,99 te contratou para criar um programa que solicite quantos\n",
        "itens o cliente esta levando e retorne o valor total da compra. O programa deve permanecer em execução\n",
        "até que seja digitado 0."
      ],
      "metadata": {
        "id": "gdt-3QrJPjtu"
      }
    },
    {
      "cell_type": "code",
      "source": [
        "valor = 1.99\n",
        "quantidade = int(input(\"QUANTOS ITENS? \"))\n",
        "valor_compra = quantidade * valor\n",
        "while quantidade != 0:\n",
        "  print(valor_compra)\n",
        "  quantidade = int(input(\"QUANTOS ITENS? \"))\n",
        "  valor_compra = quantidade * valor\n",
        "print(\"PROGRAMA ENCERRADO\")"
      ],
      "metadata": {
        "colab": {
          "base_uri": "https://localhost:8080/"
        },
        "id": "oQUfQDq9PiXH",
        "outputId": "1306a6cc-b096-4afb-cdb0-f796df33cd2d"
      },
      "execution_count": null,
      "outputs": [
        {
          "output_type": "stream",
          "name": "stdout",
          "text": [
            "QUANTOS ITENS? 1\n",
            "1.99\n",
            "QUANTOS ITENS? 2\n",
            "3.98\n",
            "QUANTOS ITENS? 3\n",
            "5.97\n",
            "QUANTOS ITENS? 0\n",
            "PROGRAMA ENCERRADO\n"
          ]
        }
      ]
    },
    {
      "cell_type": "markdown",
      "source": [
        "8 - Faça um programa que solicite a quantidade de turmas de ADS, em seguida solicite quantos alunos cada\n",
        "turma possui e calcule a quantidade média de alunos por turma."
      ],
      "metadata": {
        "id": "9owORIuXQNUn"
      }
    },
    {
      "cell_type": "code",
      "source": [
        "turma = int(input(\"QUANTAS TURMAS DE ADS? \"))\n",
        "alunos = int(input(\"QUANTOS ALUNOS DE ADS? \"))\n",
        "print(f\"Há uma média de {alunos / turma} alunos por turma\")"
      ],
      "metadata": {
        "colab": {
          "base_uri": "https://localhost:8080/"
        },
        "id": "bjyAL8eBQPsX",
        "outputId": "af732956-5a31-46d2-dbbb-1b4799ab4b7f"
      },
      "execution_count": null,
      "outputs": [
        {
          "output_type": "stream",
          "name": "stdout",
          "text": [
            "QUANTAS TURMAS DE ADS? 5\n",
            "QUANTOS ALUNOS DE ADS? 10\n",
            "Há uma média de 2.0 alunos por turma\n"
          ]
        }
      ]
    },
    {
      "cell_type": "markdown",
      "source": [
        "9 - Soma dos números\n",
        "* Crie uma variável numero e utilize a função int(input()) para atribuir um valor a ela;\n",
        "* Utilize o loop ``for`` para exibir a soma de todos os numeros de 1 até o valor da variável numero."
      ],
      "metadata": {
        "id": "m1fT0HZZQ36X"
      }
    },
    {
      "cell_type": "code",
      "source": [
        "numero = int(input(\"DIGITE UM NÚMERO \"))\n",
        "soma = 0\n",
        "lista = list(range(1,numero + 1))\n",
        "for num in lista:\n",
        "  soma = soma + num\n",
        "  print(soma)\n",
        "print(f'A soma dos números inteiros entre 1 e {numero} é = {soma}')"
      ],
      "metadata": {
        "colab": {
          "base_uri": "https://localhost:8080/"
        },
        "id": "QGrRTfieQ6QP",
        "outputId": "278ced4f-fa4d-4ab3-c4a7-1c5ebe5ae201"
      },
      "execution_count": null,
      "outputs": [
        {
          "output_type": "stream",
          "name": "stdout",
          "text": [
            "DIGITE UM NÚMERO 1\n",
            "1\n",
            "A soma dos números inteiros entre 1 e 1 é = 1\n"
          ]
        }
      ]
    },
    {
      "cell_type": "markdown",
      "source": [
        "10 - Média da soma dos números\n",
        "* Crie uma variável numero e utilize a função int(input()) para atribuir um valor a ela;\n",
        "* Utilize o loop ``for`` para realizar a soma de todos os numeros de 1 até o valor da variável numero;\n",
        "* calcule a média do valor da soma."
      ],
      "metadata": {
        "id": "OYvq_pKsSDRu"
      }
    },
    {
      "cell_type": "code",
      "source": [
        "numero = int(input(\"DIGITE UM NÚMERO \"))\n",
        "soma = 0\n",
        "media = 0\n",
        "lista = list(range(1,numero + 1))\n",
        "for num in lista:\n",
        "  soma += num\n",
        "  media = soma / numero\n",
        "print(f'A soma {soma} dividido por {numero} é {media} ')"
      ],
      "metadata": {
        "colab": {
          "base_uri": "https://localhost:8080/"
        },
        "id": "ruNCZYa7SA8m",
        "outputId": "a485537d-eaf5-41e3-826e-b5e33bd859ad"
      },
      "execution_count": null,
      "outputs": [
        {
          "output_type": "stream",
          "name": "stdout",
          "text": [
            "DIGITE UM NÚMERO 4\n",
            "A soma 10 dividido por 4 é 2.5 \n"
          ]
        }
      ]
    },
    {
      "cell_type": "markdown",
      "source": [
        "11 - Quantidade de Valores pares e ímpares na lista_numeros:\n",
        "\n",
        "• Crie uma variável quantidade_par e outra quantidade_impar;\n",
        "\n",
        "• Utilize o loop for para percorrer a lista_numeros;\n",
        "\n",
        "• Utilize as estruturas condicionais para verificar se o valor é par ou ímpar;\n",
        "\n",
        "• Exiba a quantidade de valores pares e a quantidade de valores ímpares."
      ],
      "metadata": {
        "id": "rEdmLWHFSlf_"
      }
    },
    {
      "cell_type": "code",
      "source": [
        "lista_numeros = [5,484,2,21,4,6,9,451,4,8,6,2,1,4,8,6,2,1,7,51,8,7,51,8,7,5,13,748,4,22,2,68,479,43,1,4,98,6841,64,84,86]\n",
        "quantidade_par = 0\n",
        "quantidade_impar = 0\n",
        "for numero in lista_numeros:\n",
        "  if numero % 2 == 0:\n",
        "      quantidade_par = quantidade_par + 1\n",
        "  else:\n",
        "      quantidade_impar = quantidade_impar + 1\n",
        "print(f\"Há {quantidade_impar} números ímpares e {quantidade_par} números pares\")"
      ],
      "metadata": {
        "id": "Ks_rjJITSktP",
        "colab": {
          "base_uri": "https://localhost:8080/"
        },
        "outputId": "d152ff96-e319-49e4-bb20-5d9f2e7086c3"
      },
      "execution_count": null,
      "outputs": [
        {
          "output_type": "stream",
          "name": "stdout",
          "text": [
            "Há 17 números ímpares e 24 números pares\n"
          ]
        }
      ]
    },
    {
      "cell_type": "markdown",
      "source": [
        "12 - Use a estrutura de loop for para percorrer a lista_varios_numeros, um contador e um if, para calcular\n",
        "quantos valores da lista_varios_numeros são divisíveis por 17."
      ],
      "metadata": {
        "id": "UW57vTK_WnhF"
      }
    },
    {
      "cell_type": "code",
      "source": [
        "lista_varios_numeros = [5,484,2,21,4,6,9,451,4,8,6,2,1,4,8,6,2,1,7,51,8,7,51,8,7,5,13,748,4,22,2,68,479,43,1,4,98,6841,64,84,86]\n",
        "quantidade = 0\n",
        "for num in lista_varios_numeros:\n",
        "  if num % 17 == 0:\n",
        "    quantidade = quantidade + 1\n",
        "print(f'Há {quantidade} números divisiveis por 17')"
      ],
      "metadata": {
        "id": "HzVcgBlrWqhT",
        "colab": {
          "base_uri": "https://localhost:8080/"
        },
        "outputId": "e3d73261-7c7d-47e0-ebe3-ec36e06066c6"
      },
      "execution_count": null,
      "outputs": [
        {
          "output_type": "stream",
          "name": "stdout",
          "text": [
            "Há 4 números divisiveis por 17\n"
          ]
        }
      ]
    },
    {
      "cell_type": "markdown",
      "source": [
        "13 - Faça um programa que solicite ao usuário a quantidade de notas que ele deseja calcular a média, em\n",
        "seguida solicite a quantidade de notas digitadas e calcule a média."
      ],
      "metadata": {
        "id": "15wFTHZUW3Z8"
      }
    },
    {
      "cell_type": "code",
      "source": [
        "quantidade = int(input(\"QUANTAS NOTAS QUER CALCULAR A MÉDIA? \"))\n",
        "notas_digitadas = []\n",
        "contador = quantidade\n",
        "soma = 0\n",
        "while contador > 0:\n",
        "  notas_digitadas.append(int(input(\"QUAL SUA NOTA ?\")))\n",
        "  contador = contador - 1\n",
        "\n",
        "for num in notas_digitadas:\n",
        "  soma = soma + num\n",
        "media = soma / quantidade\n",
        "\n",
        "print(media)"
      ],
      "metadata": {
        "id": "UVY3FJBLW6wa",
        "colab": {
          "base_uri": "https://localhost:8080/"
        },
        "outputId": "9e36eaad-8b35-4a72-b068-ce8f1b08e1ec"
      },
      "execution_count": null,
      "outputs": [
        {
          "output_type": "stream",
          "name": "stdout",
          "text": [
            "QUANTAS NOTAS QUER CALCULAR A MÉDIA? 5\n",
            "QUAL SUA NOTA ?5\n",
            "QUAL SUA NOTA ?5\n",
            "QUAL SUA NOTA ?5\n",
            "QUAL SUA NOTA ?7\n",
            "QUAL SUA NOTA ?4\n",
            "5.2\n"
          ]
        }
      ]
    },
    {
      "cell_type": "markdown",
      "source": [
        "14 - Com o loop for, desenvolva um gerador de tabuada, capaz de gerar a tabuada de qualquer número\n",
        "inteiro entre 1 a 10. O usuário deve informar de qual numero ele deseja a tabuada"
      ],
      "metadata": {
        "id": "isgAPHPcXOe7"
      }
    },
    {
      "cell_type": "code",
      "source": [
        "numero = int(input(\"ENTRE 1 E 10 QUAL NÚMERO DESEJA SABER A TABUADA? \"))\n",
        "if numero >= 1 and numero <= 10:\n",
        "  for num in range(1,11):\n",
        "    print(f'{numero} x {num} = {numero*num}')\n",
        "else:\n",
        "    print(\"ERRO, DIGITE NÚMERO ENTRE 1 E 10\")"
      ],
      "metadata": {
        "colab": {
          "base_uri": "https://localhost:8080/"
        },
        "id": "83ARSOKWXPXG",
        "outputId": "f211389a-2c01-41ff-d6a0-fbf694cccefb"
      },
      "execution_count": null,
      "outputs": [
        {
          "output_type": "stream",
          "name": "stdout",
          "text": [
            "ENTRE 1 E 10 QUAL NÚMERO DESEJA SABER A TABUADA? 5\n",
            "5 x 1 = 5\n",
            "5 x 2 = 10\n",
            "5 x 3 = 15\n",
            "5 x 4 = 20\n",
            "5 x 5 = 25\n",
            "5 x 6 = 30\n",
            "5 x 7 = 35\n",
            "5 x 8 = 40\n",
            "5 x 9 = 45\n",
            "5 x 10 = 50\n"
          ]
        }
      ]
    },
    {
      "cell_type": "markdown",
      "source": [
        "15 - A sequência de Fibonacci é formada pela sequência 1,1,2,3,5,8,13,21,34,55,... Faça um programa capaz\n",
        "de gerar a série até 500.\n",
        "\n",
        "OBS: Na sequência de Fibonacci, o próximo número é sempre a soma dos dois números anteriores"
      ],
      "metadata": {
        "id": "NSXjJL7nXPsk"
      }
    },
    {
      "cell_type": "code",
      "source": [
        "primeiro = 0\n",
        "segundo = 1\n",
        "n = int(input())\n",
        "for terceiro in range(0,n+1):\n",
        "  if segundo > n:\n",
        "    break\n",
        "  print(segundo)\n",
        "  terceiro = primeiro + segundo\n",
        "  primeiro = segundo\n",
        "  segundo = terceiro"
      ],
      "metadata": {
        "colab": {
          "base_uri": "https://localhost:8080/"
        },
        "id": "bn6i4WD47Y2p",
        "outputId": "7ba78072-1980-44e0-f962-f57654f8d2f4"
      },
      "execution_count": null,
      "outputs": [
        {
          "output_type": "stream",
          "name": "stdout",
          "text": [
            "500\n",
            "1\n",
            "1\n",
            "2\n",
            "3\n",
            "5\n",
            "8\n",
            "13\n",
            "21\n",
            "34\n",
            "55\n",
            "89\n",
            "144\n",
            "233\n",
            "377\n"
          ]
        }
      ]
    }
  ]
}